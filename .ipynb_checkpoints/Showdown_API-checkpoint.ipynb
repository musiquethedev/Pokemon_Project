{
 "cells": [
  {
   "cell_type": "markdown",
   "id": "651c58e2",
   "metadata": {},
   "source": [
    "I originally was going to put this in the Pokemon_Scrape.ipynb, but I realized there was a lot of cleaning that had to be done so I am bringing it to this new file to keep things more organized."
   ]
  },
  {
   "cell_type": "markdown",
   "id": "42f9c849",
   "metadata": {},
   "source": [
    "# API Connection"
   ]
  },
  {
   "cell_type": "markdown",
   "id": "2a4db5bb",
   "metadata": {},
   "source": [
    "Pokemon Showdown (the website I play pokemon on) has an API where you can get their pokedex and move data information. I'm just going to access that here and then download it myself."
   ]
  },
  {
   "cell_type": "code",
   "execution_count": 68,
   "id": "d2935530",
   "metadata": {},
   "outputs": [
    {
     "name": "stdout",
     "output_type": "stream",
     "text": [
      "setup complete\n"
     ]
    }
   ],
   "source": [
    "import numpy as np\n",
    "import pandas as pd\n",
    "import matplotlib.pyplot as plt\n",
    "import seaborn as sns\n",
    "import requests\n",
    "print('setup complete')"
   ]
  },
  {
   "cell_type": "code",
   "execution_count": 69,
   "id": "b1cc77bc",
   "metadata": {
    "scrolled": true
   },
   "outputs": [
    {
     "data": {
      "text/html": [
       "<div>\n",
       "<style scoped>\n",
       "    .dataframe tbody tr th:only-of-type {\n",
       "        vertical-align: middle;\n",
       "    }\n",
       "\n",
       "    .dataframe tbody tr th {\n",
       "        vertical-align: top;\n",
       "    }\n",
       "\n",
       "    .dataframe thead th {\n",
       "        text-align: right;\n",
       "    }\n",
       "</style>\n",
       "<table border=\"1\" class=\"dataframe\">\n",
       "  <thead>\n",
       "    <tr style=\"text-align: right;\">\n",
       "      <th></th>\n",
       "      <th>name</th>\n",
       "      <th>type1</th>\n",
       "      <th>type2</th>\n",
       "      <th>ability1</th>\n",
       "      <th>ability2</th>\n",
       "      <th>hiddenability</th>\n",
       "      <th>hp</th>\n",
       "      <th>atk</th>\n",
       "      <th>physdef</th>\n",
       "      <th>spatk</th>\n",
       "      <th>spdef</th>\n",
       "      <th>speed</th>\n",
       "      <th>bst</th>\n",
       "      <th>alternate</th>\n",
       "    </tr>\n",
       "  </thead>\n",
       "  <tbody>\n",
       "    <tr>\n",
       "      <th>0</th>\n",
       "      <td>Bulbasaur</td>\n",
       "      <td>grass</td>\n",
       "      <td>poison</td>\n",
       "      <td>Overgrow</td>\n",
       "      <td>Chlorophyll</td>\n",
       "      <td>NaN</td>\n",
       "      <td>45</td>\n",
       "      <td>49</td>\n",
       "      <td>49</td>\n",
       "      <td>65</td>\n",
       "      <td>65</td>\n",
       "      <td>45</td>\n",
       "      <td>318</td>\n",
       "      <td>False</td>\n",
       "    </tr>\n",
       "    <tr>\n",
       "      <th>1</th>\n",
       "      <td>Ivysaur</td>\n",
       "      <td>grass</td>\n",
       "      <td>poison</td>\n",
       "      <td>Overgrow</td>\n",
       "      <td>Chlorophyll</td>\n",
       "      <td>NaN</td>\n",
       "      <td>60</td>\n",
       "      <td>62</td>\n",
       "      <td>63</td>\n",
       "      <td>80</td>\n",
       "      <td>80</td>\n",
       "      <td>60</td>\n",
       "      <td>405</td>\n",
       "      <td>False</td>\n",
       "    </tr>\n",
       "    <tr>\n",
       "      <th>2</th>\n",
       "      <td>Venusaur</td>\n",
       "      <td>grass</td>\n",
       "      <td>poison</td>\n",
       "      <td>Overgrow</td>\n",
       "      <td>Chlorophyll</td>\n",
       "      <td>NaN</td>\n",
       "      <td>80</td>\n",
       "      <td>82</td>\n",
       "      <td>83</td>\n",
       "      <td>100</td>\n",
       "      <td>100</td>\n",
       "      <td>80</td>\n",
       "      <td>525</td>\n",
       "      <td>False</td>\n",
       "    </tr>\n",
       "    <tr>\n",
       "      <th>3</th>\n",
       "      <td>Charmander</td>\n",
       "      <td>fire</td>\n",
       "      <td>NaN</td>\n",
       "      <td>Blaze</td>\n",
       "      <td>Solar Power</td>\n",
       "      <td>NaN</td>\n",
       "      <td>39</td>\n",
       "      <td>52</td>\n",
       "      <td>43</td>\n",
       "      <td>60</td>\n",
       "      <td>50</td>\n",
       "      <td>65</td>\n",
       "      <td>309</td>\n",
       "      <td>False</td>\n",
       "    </tr>\n",
       "    <tr>\n",
       "      <th>4</th>\n",
       "      <td>Charmeleon</td>\n",
       "      <td>fire</td>\n",
       "      <td>NaN</td>\n",
       "      <td>Blaze</td>\n",
       "      <td>Solar Power</td>\n",
       "      <td>NaN</td>\n",
       "      <td>58</td>\n",
       "      <td>64</td>\n",
       "      <td>58</td>\n",
       "      <td>80</td>\n",
       "      <td>65</td>\n",
       "      <td>80</td>\n",
       "      <td>405</td>\n",
       "      <td>False</td>\n",
       "    </tr>\n",
       "  </tbody>\n",
       "</table>\n",
       "</div>"
      ],
      "text/plain": [
       "         name  type1   type2  ability1     ability2 hiddenability  hp  atk  \\\n",
       "0   Bulbasaur  grass  poison  Overgrow  Chlorophyll           NaN  45   49   \n",
       "1     Ivysaur  grass  poison  Overgrow  Chlorophyll           NaN  60   62   \n",
       "2    Venusaur  grass  poison  Overgrow  Chlorophyll           NaN  80   82   \n",
       "3  Charmander   fire     NaN     Blaze  Solar Power           NaN  39   52   \n",
       "4  Charmeleon   fire     NaN     Blaze  Solar Power           NaN  58   64   \n",
       "\n",
       "   physdef  spatk  spdef  speed  bst  alternate  \n",
       "0       49     65     65     45  318      False  \n",
       "1       63     80     80     60  405      False  \n",
       "2       83    100    100     80  525      False  \n",
       "3       43     60     50     65  309      False  \n",
       "4       58     80     65     80  405      False  "
      ]
     },
     "execution_count": 69,
     "metadata": {},
     "output_type": "execute_result"
    }
   ],
   "source": [
    "pokemon_df = pd.read_csv('Natdex_Data.csv')\n",
    "\n",
    "# The below line of code is to add functionality even when Natdex_Data.csv already has isLegend and isFinal as columns. \n",
    "# When this file was first being written, this line was not included and not needed\n",
    "pokemon_df = pokemon_df.drop(['isLegend', 'isFinal'], axis=1)\n",
    "\n",
    "pokemon_df.head()"
   ]
  },
  {
   "cell_type": "code",
   "execution_count": 70,
   "id": "7e71797e",
   "metadata": {},
   "outputs": [],
   "source": [
    "response = requests.get(\"https://play.pokemonshowdown.com/data/pokedex.json\")\n",
    "pokedex_df = pd.DataFrame.from_dict(response.json(), orient='index')"
   ]
  },
  {
   "cell_type": "code",
   "execution_count": 71,
   "id": "52644969",
   "metadata": {
    "scrolled": true
   },
   "outputs": [
    {
     "data": {
      "text/plain": [
       "Index(['num', 'name', 'types', 'genderRatio', 'baseStats', 'abilities',\n",
       "       'heightm', 'weightkg', 'color', 'evos', 'eggGroups', 'tier',\n",
       "       'isNonstandard', 'prevo', 'evoLevel', 'otherFormes', 'formeOrder',\n",
       "       'canGigantamax', 'baseSpecies', 'forme', 'requiredItem', 'changesFrom',\n",
       "       'evoCondition', 'evoType', 'gender', 'gen', 'evoItem', 'evoRegion',\n",
       "       'canHatch', 'evoMove', 'tags', 'baseForme', 'cosmeticFormes', 'maxHP',\n",
       "       'requiredAbility', 'battleOnly', 'requiredMove', 'requiredItems',\n",
       "       'cannotDynamax'],\n",
       "      dtype='object')"
      ]
     },
     "execution_count": 71,
     "metadata": {},
     "output_type": "execute_result"
    }
   ],
   "source": [
    "pokedex_df.columns"
   ]
  },
  {
   "cell_type": "markdown",
   "id": "6872767f",
   "metadata": {},
   "source": [
    "As it happens, the only useful information I can glean from this data is whether it is legendary or mythical or not and where it is in the evolutionary line. After I engineer those features, I just need to add them with my original data. The other information that I want: usage, tiering, move descriptions, ability descriptions, will need to be gotten from other data sources. Showdown has more data like this that I can use so I'll get it from there. For now, I just need to engineer the tags."
   ]
  },
  {
   "cell_type": "markdown",
   "id": "064319d0",
   "metadata": {},
   "source": [
    "As I go through each of these columns, I'm going to write down here what my interpretation of them is. I don't think I'll be able to find much documentation in a reasonable amount of time. If the column is not useful to me I'm just going to leave it and say it's \"not useful\" along with any other remarks, because there's too many columns here to describe all of them when I'm only going to use a couple\n",
    "\n",
    "* num: The pokedex number of the pokemon. Any unofficial/not actual pokemon have a number that is 0 or below (CAP and missingno,    etc). Any alternate forms of pokemon will have their own separate entry but the same number\n",
    "* name: the english name of the pokemon. Letters are capitalized, spaces are kept, all formatting is good for my purposes. The      only formatting issue I can see is that all variants are appended with a dash, whereas my regional variants have \"Alolan\" or    \"Galarian\" or what have you in the beginning of the name. I'll have to clean this up when I execute the merge\n",
    "* types: simple enough. A list of the types, with each type capitalized. It appears that this is in the form of a numpy array.      Calling it with ...['types'].values[0] appears to return a python list of string which may be easier to work with\n",
    "* genderRatio: not useful for me. It's the percent likelihood of a randomly selected pokemon of that species being a specific      gender\n",
    "* baseStats: I already have this information in my pre-scraped data. It appears to be a dictionary of each of the stats. Beyond    checking the original data for errors there's not much more I want to do with this.\n",
    "* abilities: a dictionary of abilities. \"H\" is a hidden ability. Similar situation to baseStats\n",
    "* heightm: height in meters of the pokemon. Probably not too useful\n",
    "* weightkg: weight of the pokemon in kilograms. Only impactful for very specific scenarios (some moves deal more damage            depending on the weight of the target. Nevertheless, I'm not planning on using it.\n",
    "* color: not useful (visual description of the pokemon)\n",
    "* evos: a list of what the pokemon evolves into. Useful because all fully evolved pokemon have a Null in this spot, which means    I can sort them out with this. This will probably require some feature engineering of some sort\n",
    "* eggGroups: not useful for me. This is egg Groups, which dictate which pokemon a certain pokemon can breed with in-game.\n",
    "* tier: The current tiering of the pokemon in the current Generation (gen 9). Although this is going to eventually be a target      feature, this column in this dataset is unreliable. In the current generation, only a little over a hundred pokemon are          allowed, compared to the 1200 pokemon to ever exist, which means that all of those other pokemon are given the tiering          \"illegal\" or something else like that. I'll probably have to go access another file to find the tiering placements of these      pokemon in the last generation they were available. Therefore, this column isn't useful to me right now.\n",
    "* isNonStandard: a tag of whether the pokemon is available in the current generation (generation 9). Anything with \"CAP\",          \"Custom\", or \"LGPE\" will be excluded, because they aren't part of competitive pokemon (what the analysis is geared towards)\n",
    "* prevo: A list of the pre-evolution of the pokemon. Will be used in conjunction with \"evos\" to get an index for where along the    evolution chain this pokemon is during feature engineering\n",
    "* evoLevel: not useful\n",
    "* otherFormes: can tell me whether the pokemon has other forms as well. Some of these forms may be considered as actual pokemon    for my purposes or not. I'll have to see how I can use this later\n",
    "* formeOrder: A list of all the possible forms of this pokemon, but only on the original form. I don't know how this will be        different from otherFormes\n",
    "* canGigantamax: gigantamax/dynamax is always banned, not useful\n",
    "* baseSpecies: will be very useful for indexing. Gives the pokemon that is the base species of this pokemon. This way I can        distinguish between which pokemon will be used as their own pokemon and those that won't be by their base species. For          example, all pokemon with a base species of pikachu will not be useful at all, since they're not tiered any differently than    regular pikachu\n",
    "* forme: Will be very important for querying only the pokemon that I need, since all pokemon of certain specific forms (mega,      alola, galar) are useful, while others will not be used (gmax, hisui for now). \n",
    "* requiredItem: not useful\n",
    "* changesFrom: another \"baseSpecies\" clone, but this one has less entries for some reason. I'll have to see how this is            different from baseSpecies when I get to cleaning the data\n",
    "* evoCondition: not useful\n",
    "* evoType: not useful\n",
    "* gender: not useful\n",
    "* gen: I think this is the gen where the pokemon was added to pokemon showdown. Unfortunately this is not accurate to what          generation the pokemon was introduced, which means that in order to find that information I'll have to look elsewhere. \n",
    "* evoItem: not useful\n",
    "* evoRegion: not useful\n",
    "* canHatch: not useful\n",
    "* evoMove: not useful\n",
    "* tags: tags whether the pokemon is a restricted legendary, sub-legendary, mythical, or paradox pokemon. Will be useful for        tagging for later analysis. Like with types, its in the form of a numpy array. This could be pretty hard to work with, i        would have preferred if it was in some other format than an array\n",
    "* baseForme: This seems like a list of the suffixes of the base forms of certain pokemon. I don't think this will be much useful    to me\n",
    "* cosmeticFormes: not useful\n",
    "* maxHP: This column has one singular entry and that is Shedinja. Shedinja is special because its HP is hard capped at 1HP, even    with EV investment and at level 100. This is important but only for it, and I think its base HP of 1 will be good enough for    models to tell that it has terrible hp. therefore, not useful\n",
    "* requiredAbility: not useful\n",
    "* battleOnly: I think this exists if the pokemon has a form that is only available in battle. This seems like it could be useful    because pokemon with battle-only forms are grouped together with their alternate form counterparts, although they're still      listed separately. This could help me avoid adding false or redundant data\n",
    "* requiredMove: not useful\n",
    "* requiredItems: not useful\n",
    "* cannotDynamax: not useful\n",
    "\n",
    "Many of the columns I labelled \"not useful\" mostly had to do with evolution requirements, purely in-game things like breeding and egg hatching, and banned mechanics such as dynamax and gigantamax. Now on to the data cleaning and preparation for concatenation with the original dataframe"
   ]
  },
  {
   "cell_type": "markdown",
   "id": "25a1c007",
   "metadata": {},
   "source": [
    "## Cleaning Data and keeping only what I want"
   ]
  },
  {
   "cell_type": "code",
   "execution_count": 72,
   "id": "0cad20a9",
   "metadata": {},
   "outputs": [],
   "source": [
    "# dropping things\n",
    "def process_pokedex(pokedex_df):\n",
    "    '''\n",
    "    Function that preprocesses the pokedex data obtained from the Pokemon Showdown API. It formats the names so that it merges\n",
    "    correctly with the dataframe of the data I scraped myself, which means dropping all the additional pokemon that aren't \n",
    "    included in it.\n",
    "    \n",
    "    Parameters:\n",
    "        pokedex_df (Pandas DataFrame): The DataFrame in question\n",
    "    \n",
    "    Returns:\n",
    "        Pandas DataFrame\n",
    "    '''\n",
    "    pokedex_df = pokedex_df.copy()\n",
    "    \n",
    "    # Dropping all pokemon with numbers 0 or below (they aren't actual pokemon)\n",
    "    pokedex_df = pokedex_df.query('num > 0')\n",
    "    \n",
    "    # Dropping all pokemon where the name contains a string in drop_list. This is usually alternate forms that don't\n",
    "    # count as unique pokemon\n",
    "    drop_list = ['Hisui', 'Pikachu-', 'Gmax', 'Vivillon-', 'Totem', 'Cherrim-', 'Sinistea-', 'Polteageist-',\n",
    "                '-Neutral', 'Zarude-Dada', '-School', '-Meteor', '-Hangry', 'Genesect-', 'Meloetta-', 'Palafin-',\n",
    "                'Aegislash-Blade', 'Basculegion-F', 'Basculin-Blue-Striped',\n",
    "                'Basculin-White-Striped', 'Castform-Rainy', 'Castform-Snowy',\n",
    "                'Castform-Sunny', 'Cramorant-Gorging', 'Cramorant-Gulping',\n",
    "                'Darmanitan-Galar-Zen', 'Darmanitan-Zen', 'Dialga-Origin',\n",
    "                'Dudunsparce-Three-Segment', 'Eevee-Starter', 'Eiscue-Noice',\n",
    "                'Enamorus-Therian', 'Eternatus-Eternamax', 'Floette-Eternal',\n",
    "                'Gimmighoul-Roaming', 'Giratina-Origin', 'Hoopa-Unbound',\n",
    "                'Keldeo-Resolute', 'Magearna-Original', 'Maushold-Four',\n",
    "                'Mimikyu-Busted', 'Necrozma-Ultra', 'Palkia-Origin',\n",
    "                'Pichu-Spiky-eared', 'Toxtricity-Low-Key']\n",
    "    \n",
    "    mask = pokedex_df['name'].str.contains('|'.join(drop_list))\n",
    "    pokedex_df = pokedex_df[~mask]\n",
    "    \n",
    "    \n",
    "    return pokedex_df"
   ]
  },
  {
   "cell_type": "code",
   "execution_count": 73,
   "id": "787204de",
   "metadata": {
    "scrolled": true
   },
   "outputs": [
    {
     "data": {
      "text/plain": [
       "(1176, 39)"
      ]
     },
     "execution_count": 73,
     "metadata": {},
     "output_type": "execute_result"
    }
   ],
   "source": [
    "pokedex_df = process_pokedex(pokedex_df)\n",
    "pokedex_df.shape"
   ]
  },
  {
   "cell_type": "markdown",
   "id": "e4b736bd",
   "metadata": {},
   "source": [
    "## Feature Engineering and merging with Natdex_Data.csv"
   ]
  },
  {
   "cell_type": "markdown",
   "id": "5a077023",
   "metadata": {},
   "source": [
    "Here's what I plan to take from this pokemon showdown dataset:\n",
    "* evolutionary place: using evos and/or prevos\n",
    "* legendary: using isLegend"
   ]
  },
  {
   "cell_type": "code",
   "execution_count": 74,
   "id": "ed9ad161",
   "metadata": {},
   "outputs": [],
   "source": [
    "# column that says if the pokemon is legendary, mythical, paradox, or sub-legendary. all of them will count the same for my \n",
    "# purposes\n",
    "\n",
    "pokedex_df['isLegend'] = ~pokedex_df.tags.isnull()"
   ]
  },
  {
   "cell_type": "code",
   "execution_count": 75,
   "id": "802640d7",
   "metadata": {},
   "outputs": [],
   "source": [
    "pokedex_df['isFinal'] = pokedex_df.evos.isnull()"
   ]
  },
  {
   "cell_type": "code",
   "execution_count": 76,
   "id": "6dddb554",
   "metadata": {},
   "outputs": [],
   "source": [
    "total_df = pokemon_df.merge(pokedex_df, on='name')\n",
    "total_df = total_df[['name', 'type1', 'type2', 'ability1', 'ability2', 'hiddenability', 'hp', 'atk', 'physdef',\n",
    "                    'spatk', 'spdef', 'speed', 'bst', 'alternate', 'isLegend', 'isFinal']]"
   ]
  },
  {
   "cell_type": "code",
   "execution_count": 77,
   "id": "e20ca39b",
   "metadata": {},
   "outputs": [],
   "source": [
    "#total_df.to_csv('Natdex_Data.csv', index=False)"
   ]
  },
  {
   "cell_type": "markdown",
   "id": "02565153",
   "metadata": {},
   "source": [
    "And that's it for this task!"
   ]
  },
  {
   "cell_type": "markdown",
   "id": "04f475a2",
   "metadata": {},
   "source": [
    "## Saving the showdown pokemon names"
   ]
  },
  {
   "cell_type": "markdown",
   "id": "744bd109",
   "metadata": {},
   "source": [
    "I'm currently adding the tiering in and the names used by pokemon showdown are the same as the indexes on this dataframe from the showdown API. I will now add a file that will act as a conversion from my current in-use pokemon names and the showdown pokemon names"
   ]
  },
  {
   "cell_type": "code",
   "execution_count": 78,
   "id": "fa902bde",
   "metadata": {},
   "outputs": [],
   "source": [
    "name_conversion = pd.Series(index=pokedex_df['name'], data=pokedex_df.index)"
   ]
  },
  {
   "cell_type": "code",
   "execution_count": 79,
   "id": "04e4261b",
   "metadata": {},
   "outputs": [],
   "source": [
    "#name_conversion.to_csv('name_conversion.csv')"
   ]
  }
 ],
 "metadata": {
  "kernelspec": {
   "display_name": "Python 3 (ipykernel)",
   "language": "python",
   "name": "python3"
  },
  "language_info": {
   "codemirror_mode": {
    "name": "ipython",
    "version": 3
   },
   "file_extension": ".py",
   "mimetype": "text/x-python",
   "name": "python",
   "nbconvert_exporter": "python",
   "pygments_lexer": "ipython3",
   "version": "3.9.13"
  }
 },
 "nbformat": 4,
 "nbformat_minor": 5
}
