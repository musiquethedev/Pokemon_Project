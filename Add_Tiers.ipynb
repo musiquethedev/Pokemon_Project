{
 "cells": [
  {
   "cell_type": "markdown",
   "id": "d8d77b96",
   "metadata": {},
   "source": [
    "# Tiering Data"
   ]
  },
  {
   "cell_type": "markdown",
   "id": "9ac8b0ea",
   "metadata": {},
   "source": [
    "Tiering data taken from https://github.com/smogon/pokemon-showdown/blob/master/data/formats-data.ts, which is the official source for smogon pokemon data. In this section I will add this data to Natdex_Data.csv."
   ]
  },
  {
   "cell_type": "code",
   "execution_count": 133,
   "id": "5f39f4cc",
   "metadata": {},
   "outputs": [
    {
     "name": "stdout",
     "output_type": "stream",
     "text": [
      "setup complete\n"
     ]
    }
   ],
   "source": [
    "import pandas as pd\n",
    "import numpy as np\n",
    "print('setup complete')"
   ]
  },
  {
   "cell_type": "markdown",
   "id": "f4ec577e",
   "metadata": {},
   "source": [
    "```formats-data.json``` shows the formatting as downloaded straight from the above link on 2/12/23. ```convert.tcl``` is a script written by my father (Pascal Martin) that partially reformats the pure typescript file containing a dictionary into a json file. The rest was edited by hand (the things throwing errors were two comment blocks). The fully converted json file can be found in ```tier-data.json``` and I will work with that from now onb"
   ]
  },
  {
   "cell_type": "code",
   "execution_count": 134,
   "id": "b884562c",
   "metadata": {},
   "outputs": [],
   "source": [
    "tier_df = pd.read_json('tier-data.json').T\n",
    "pokemon_df = pd.read_csv('Natdex_Data.csv')"
   ]
  },
  {
   "cell_type": "code",
   "execution_count": 135,
   "id": "ff7a023f",
   "metadata": {
    "scrolled": true
   },
   "outputs": [
    {
     "data": {
      "text/html": [
       "<div>\n",
       "<style scoped>\n",
       "    .dataframe tbody tr th:only-of-type {\n",
       "        vertical-align: middle;\n",
       "    }\n",
       "\n",
       "    .dataframe tbody tr th {\n",
       "        vertical-align: top;\n",
       "    }\n",
       "\n",
       "    .dataframe thead th {\n",
       "        text-align: right;\n",
       "    }\n",
       "</style>\n",
       "<table border=\"1\" class=\"dataframe\">\n",
       "  <thead>\n",
       "    <tr style=\"text-align: right;\">\n",
       "      <th></th>\n",
       "      <th>isNonstandard</th>\n",
       "      <th>tier</th>\n",
       "      <th>natDexTier</th>\n",
       "      <th>doublesTier</th>\n",
       "    </tr>\n",
       "  </thead>\n",
       "  <tbody>\n",
       "    <tr>\n",
       "      <th>bulbasaur</th>\n",
       "      <td>Past</td>\n",
       "      <td>Illegal</td>\n",
       "      <td>LC</td>\n",
       "      <td>NaN</td>\n",
       "    </tr>\n",
       "    <tr>\n",
       "      <th>ivysaur</th>\n",
       "      <td>Past</td>\n",
       "      <td>Illegal</td>\n",
       "      <td>NFE</td>\n",
       "      <td>NaN</td>\n",
       "    </tr>\n",
       "    <tr>\n",
       "      <th>venusaur</th>\n",
       "      <td>Past</td>\n",
       "      <td>Illegal</td>\n",
       "      <td>UU</td>\n",
       "      <td>NaN</td>\n",
       "    </tr>\n",
       "    <tr>\n",
       "      <th>venusaurmega</th>\n",
       "      <td>Past</td>\n",
       "      <td>Illegal</td>\n",
       "      <td>UU</td>\n",
       "      <td>NaN</td>\n",
       "    </tr>\n",
       "    <tr>\n",
       "      <th>venusaurgmax</th>\n",
       "      <td>Past</td>\n",
       "      <td>Illegal</td>\n",
       "      <td>NaN</td>\n",
       "      <td>NaN</td>\n",
       "    </tr>\n",
       "  </tbody>\n",
       "</table>\n",
       "</div>"
      ],
      "text/plain": [
       "             isNonstandard     tier natDexTier doublesTier\n",
       "bulbasaur             Past  Illegal         LC         NaN\n",
       "ivysaur               Past  Illegal        NFE         NaN\n",
       "venusaur              Past  Illegal         UU         NaN\n",
       "venusaurmega          Past  Illegal         UU         NaN\n",
       "venusaurgmax          Past  Illegal        NaN         NaN"
      ]
     },
     "execution_count": 135,
     "metadata": {},
     "output_type": "execute_result"
    }
   ],
   "source": [
    "tier_df.head()"
   ]
  },
  {
   "cell_type": "code",
   "execution_count": 136,
   "id": "0d5d9524",
   "metadata": {
    "scrolled": true
   },
   "outputs": [
    {
     "data": {
      "text/html": [
       "<div>\n",
       "<style scoped>\n",
       "    .dataframe tbody tr th:only-of-type {\n",
       "        vertical-align: middle;\n",
       "    }\n",
       "\n",
       "    .dataframe tbody tr th {\n",
       "        vertical-align: top;\n",
       "    }\n",
       "\n",
       "    .dataframe thead th {\n",
       "        text-align: right;\n",
       "    }\n",
       "</style>\n",
       "<table border=\"1\" class=\"dataframe\">\n",
       "  <thead>\n",
       "    <tr style=\"text-align: right;\">\n",
       "      <th></th>\n",
       "      <th>name</th>\n",
       "      <th>type1</th>\n",
       "      <th>type2</th>\n",
       "      <th>ability1</th>\n",
       "      <th>ability2</th>\n",
       "      <th>hiddenability</th>\n",
       "      <th>hp</th>\n",
       "      <th>atk</th>\n",
       "      <th>physdef</th>\n",
       "      <th>spatk</th>\n",
       "      <th>spdef</th>\n",
       "      <th>speed</th>\n",
       "      <th>bst</th>\n",
       "      <th>alternate</th>\n",
       "      <th>isLegend</th>\n",
       "      <th>isFinal</th>\n",
       "    </tr>\n",
       "  </thead>\n",
       "  <tbody>\n",
       "    <tr>\n",
       "      <th>0</th>\n",
       "      <td>Bulbasaur</td>\n",
       "      <td>grass</td>\n",
       "      <td>poison</td>\n",
       "      <td>Overgrow</td>\n",
       "      <td>Chlorophyll</td>\n",
       "      <td>NaN</td>\n",
       "      <td>45</td>\n",
       "      <td>49</td>\n",
       "      <td>49</td>\n",
       "      <td>65</td>\n",
       "      <td>65</td>\n",
       "      <td>45</td>\n",
       "      <td>318</td>\n",
       "      <td>False</td>\n",
       "      <td>False</td>\n",
       "      <td>False</td>\n",
       "    </tr>\n",
       "    <tr>\n",
       "      <th>1</th>\n",
       "      <td>Ivysaur</td>\n",
       "      <td>grass</td>\n",
       "      <td>poison</td>\n",
       "      <td>Overgrow</td>\n",
       "      <td>Chlorophyll</td>\n",
       "      <td>NaN</td>\n",
       "      <td>60</td>\n",
       "      <td>62</td>\n",
       "      <td>63</td>\n",
       "      <td>80</td>\n",
       "      <td>80</td>\n",
       "      <td>60</td>\n",
       "      <td>405</td>\n",
       "      <td>False</td>\n",
       "      <td>False</td>\n",
       "      <td>False</td>\n",
       "    </tr>\n",
       "    <tr>\n",
       "      <th>2</th>\n",
       "      <td>Venusaur</td>\n",
       "      <td>grass</td>\n",
       "      <td>poison</td>\n",
       "      <td>Overgrow</td>\n",
       "      <td>Chlorophyll</td>\n",
       "      <td>NaN</td>\n",
       "      <td>80</td>\n",
       "      <td>82</td>\n",
       "      <td>83</td>\n",
       "      <td>100</td>\n",
       "      <td>100</td>\n",
       "      <td>80</td>\n",
       "      <td>525</td>\n",
       "      <td>False</td>\n",
       "      <td>False</td>\n",
       "      <td>True</td>\n",
       "    </tr>\n",
       "    <tr>\n",
       "      <th>3</th>\n",
       "      <td>Charmander</td>\n",
       "      <td>fire</td>\n",
       "      <td>NaN</td>\n",
       "      <td>Blaze</td>\n",
       "      <td>Solar Power</td>\n",
       "      <td>NaN</td>\n",
       "      <td>39</td>\n",
       "      <td>52</td>\n",
       "      <td>43</td>\n",
       "      <td>60</td>\n",
       "      <td>50</td>\n",
       "      <td>65</td>\n",
       "      <td>309</td>\n",
       "      <td>False</td>\n",
       "      <td>False</td>\n",
       "      <td>False</td>\n",
       "    </tr>\n",
       "    <tr>\n",
       "      <th>4</th>\n",
       "      <td>Charmeleon</td>\n",
       "      <td>fire</td>\n",
       "      <td>NaN</td>\n",
       "      <td>Blaze</td>\n",
       "      <td>Solar Power</td>\n",
       "      <td>NaN</td>\n",
       "      <td>58</td>\n",
       "      <td>64</td>\n",
       "      <td>58</td>\n",
       "      <td>80</td>\n",
       "      <td>65</td>\n",
       "      <td>80</td>\n",
       "      <td>405</td>\n",
       "      <td>False</td>\n",
       "      <td>False</td>\n",
       "      <td>False</td>\n",
       "    </tr>\n",
       "  </tbody>\n",
       "</table>\n",
       "</div>"
      ],
      "text/plain": [
       "         name  type1   type2  ability1     ability2 hiddenability  hp  atk  \\\n",
       "0   Bulbasaur  grass  poison  Overgrow  Chlorophyll           NaN  45   49   \n",
       "1     Ivysaur  grass  poison  Overgrow  Chlorophyll           NaN  60   62   \n",
       "2    Venusaur  grass  poison  Overgrow  Chlorophyll           NaN  80   82   \n",
       "3  Charmander   fire     NaN     Blaze  Solar Power           NaN  39   52   \n",
       "4  Charmeleon   fire     NaN     Blaze  Solar Power           NaN  58   64   \n",
       "\n",
       "   physdef  spatk  spdef  speed  bst  alternate  isLegend  isFinal  \n",
       "0       49     65     65     45  318      False     False    False  \n",
       "1       63     80     80     60  405      False     False    False  \n",
       "2       83    100    100     80  525      False     False     True  \n",
       "3       43     60     50     65  309      False     False    False  \n",
       "4       58     80     65     80  405      False     False    False  "
      ]
     },
     "execution_count": 136,
     "metadata": {},
     "output_type": "execute_result"
    }
   ],
   "source": [
    "pokemon_df.head()"
   ]
  },
  {
   "cell_type": "markdown",
   "id": "e47c1fd9",
   "metadata": {},
   "source": [
    "These pokemon names are the same names as the index in the Data from the Showdown API call. Using ```name_conversion.csv``` (origin of which is found in ```Showdown_API```), I'm going to add in everything"
   ]
  },
  {
   "cell_type": "code",
   "execution_count": 137,
   "id": "75e8665a",
   "metadata": {},
   "outputs": [],
   "source": [
    "name_conversion = pd.read_csv('name_conversion.csv')\n",
    "name_conversion.columns = ['name', 'showdown_name']"
   ]
  },
  {
   "cell_type": "code",
   "execution_count": 138,
   "id": "1402e3a4",
   "metadata": {
    "scrolled": true
   },
   "outputs": [
    {
     "data": {
      "text/html": [
       "<div>\n",
       "<style scoped>\n",
       "    .dataframe tbody tr th:only-of-type {\n",
       "        vertical-align: middle;\n",
       "    }\n",
       "\n",
       "    .dataframe tbody tr th {\n",
       "        vertical-align: top;\n",
       "    }\n",
       "\n",
       "    .dataframe thead th {\n",
       "        text-align: right;\n",
       "    }\n",
       "</style>\n",
       "<table border=\"1\" class=\"dataframe\">\n",
       "  <thead>\n",
       "    <tr style=\"text-align: right;\">\n",
       "      <th></th>\n",
       "      <th>name</th>\n",
       "      <th>showdown_name</th>\n",
       "    </tr>\n",
       "  </thead>\n",
       "  <tbody>\n",
       "    <tr>\n",
       "      <th>0</th>\n",
       "      <td>Bulbasaur</td>\n",
       "      <td>bulbasaur</td>\n",
       "    </tr>\n",
       "    <tr>\n",
       "      <th>1</th>\n",
       "      <td>Ivysaur</td>\n",
       "      <td>ivysaur</td>\n",
       "    </tr>\n",
       "    <tr>\n",
       "      <th>2</th>\n",
       "      <td>Venusaur</td>\n",
       "      <td>venusaur</td>\n",
       "    </tr>\n",
       "    <tr>\n",
       "      <th>3</th>\n",
       "      <td>Venusaur-Mega</td>\n",
       "      <td>venusaurmega</td>\n",
       "    </tr>\n",
       "    <tr>\n",
       "      <th>4</th>\n",
       "      <td>Charmander</td>\n",
       "      <td>charmander</td>\n",
       "    </tr>\n",
       "  </tbody>\n",
       "</table>\n",
       "</div>"
      ],
      "text/plain": [
       "            name showdown_name\n",
       "0      Bulbasaur     bulbasaur\n",
       "1        Ivysaur       ivysaur\n",
       "2       Venusaur      venusaur\n",
       "3  Venusaur-Mega  venusaurmega\n",
       "4     Charmander    charmander"
      ]
     },
     "execution_count": 138,
     "metadata": {},
     "output_type": "execute_result"
    }
   ],
   "source": [
    "name_conversion.head()"
   ]
  },
  {
   "cell_type": "code",
   "execution_count": 139,
   "id": "92eb7f71",
   "metadata": {},
   "outputs": [
    {
     "name": "stdout",
     "output_type": "stream",
     "text": [
      "['Wyrdeer', 'Kleavor', 'Ursaluna', 'Basculegion', 'Sneasler', 'Overqwil', 'Enamorus']\n"
     ]
    }
   ],
   "source": [
    "# finding out which pokemon need to have their unique names added to name_conversion. likely mostly alternate forms\n",
    "add_list = []\n",
    "for i, value in name_conversion['name'].items():\n",
    "    if (value in list(pokemon_df['name'].values)):\n",
    "        pass\n",
    "    else:\n",
    "        add_list.append(name_conversion.loc[i]['name'])\n",
    "print(add_list)\n",
    "\n",
    "# '[]'"
   ]
  },
  {
   "cell_type": "markdown",
   "id": "45f89272",
   "metadata": {},
   "source": [
    "Looks like there's nothing that needs to be added! perfect"
   ]
  },
  {
   "cell_type": "code",
   "execution_count": 140,
   "id": "7c5cccc9",
   "metadata": {},
   "outputs": [],
   "source": [
    "def get_showdown_name(pokemon_name):\n",
    "    '''\n",
    "    Returns the showdown name of a give pokemon given its pokemon name. \n",
    "    REQUIRES the global variable name_conversion, which is a Pandas DataFrame. Not intended to be run outside of Add_Tiers.ipynb\n",
    "    \n",
    "    Parameters:\n",
    "        pokemon_name (str): name of the pokemon in Natdex_Data.csv\n",
    "    \n",
    "    Returns:\n",
    "        str: the pokemon's showdown name\n",
    "    '''\n",
    "    return name_conversion.query('name == @pokemon_name')['showdown_name'].values[0]"
   ]
  },
  {
   "cell_type": "markdown",
   "id": "373da4d5",
   "metadata": {},
   "source": [
    "## Cleaning tier data"
   ]
  },
  {
   "cell_type": "code",
   "execution_count": 141,
   "id": "378c717e",
   "metadata": {
    "scrolled": false
   },
   "outputs": [
    {
     "data": {
      "text/html": [
       "<div>\n",
       "<style scoped>\n",
       "    .dataframe tbody tr th:only-of-type {\n",
       "        vertical-align: middle;\n",
       "    }\n",
       "\n",
       "    .dataframe tbody tr th {\n",
       "        vertical-align: top;\n",
       "    }\n",
       "\n",
       "    .dataframe thead th {\n",
       "        text-align: right;\n",
       "    }\n",
       "</style>\n",
       "<table border=\"1\" class=\"dataframe\">\n",
       "  <thead>\n",
       "    <tr style=\"text-align: right;\">\n",
       "      <th></th>\n",
       "      <th>isNonstandard</th>\n",
       "      <th>tier</th>\n",
       "      <th>natDexTier</th>\n",
       "      <th>doublesTier</th>\n",
       "    </tr>\n",
       "  </thead>\n",
       "  <tbody>\n",
       "    <tr>\n",
       "      <th>bulbasaur</th>\n",
       "      <td>Past</td>\n",
       "      <td>Illegal</td>\n",
       "      <td>LC</td>\n",
       "      <td>NaN</td>\n",
       "    </tr>\n",
       "    <tr>\n",
       "      <th>ivysaur</th>\n",
       "      <td>Past</td>\n",
       "      <td>Illegal</td>\n",
       "      <td>NFE</td>\n",
       "      <td>NaN</td>\n",
       "    </tr>\n",
       "    <tr>\n",
       "      <th>venusaur</th>\n",
       "      <td>Past</td>\n",
       "      <td>Illegal</td>\n",
       "      <td>UU</td>\n",
       "      <td>NaN</td>\n",
       "    </tr>\n",
       "    <tr>\n",
       "      <th>venusaurmega</th>\n",
       "      <td>Past</td>\n",
       "      <td>Illegal</td>\n",
       "      <td>UU</td>\n",
       "      <td>NaN</td>\n",
       "    </tr>\n",
       "    <tr>\n",
       "      <th>venusaurgmax</th>\n",
       "      <td>Past</td>\n",
       "      <td>Illegal</td>\n",
       "      <td>NaN</td>\n",
       "      <td>NaN</td>\n",
       "    </tr>\n",
       "  </tbody>\n",
       "</table>\n",
       "</div>"
      ],
      "text/plain": [
       "             isNonstandard     tier natDexTier doublesTier\n",
       "bulbasaur             Past  Illegal         LC         NaN\n",
       "ivysaur               Past  Illegal        NFE         NaN\n",
       "venusaur              Past  Illegal         UU         NaN\n",
       "venusaurmega          Past  Illegal         UU         NaN\n",
       "venusaurgmax          Past  Illegal        NaN         NaN"
      ]
     },
     "execution_count": 141,
     "metadata": {},
     "output_type": "execute_result"
    }
   ],
   "source": [
    "tier_df.head()"
   ]
  },
  {
   "cell_type": "markdown",
   "id": "0c7808da",
   "metadata": {},
   "source": [
    "Column of interest is ``natDexTier```"
   ]
  },
  {
   "cell_type": "code",
   "execution_count": 142,
   "id": "462cac58",
   "metadata": {},
   "outputs": [],
   "source": [
    "# creating a column that is duplicate of the index. Easier to work with when testing for truth\n",
    "\n",
    "tier_df['name'] = tier_df.index"
   ]
  },
  {
   "cell_type": "code",
   "execution_count": 143,
   "id": "8d28e649",
   "metadata": {},
   "outputs": [
    {
     "data": {
      "text/plain": [
       "RU      539\n",
       "LC      197\n",
       "NFE      78\n",
       "Uber     71\n",
       "UU       42\n",
       "OU       36\n",
       "UUBL      5\n",
       "AG        5\n",
       "(OU)      1\n",
       "Name: natDexTier, dtype: int64"
      ]
     },
     "execution_count": 143,
     "metadata": {},
     "output_type": "execute_result"
    }
   ],
   "source": [
    "tier_df['natDexTier'].value_counts()"
   ]
  },
  {
   "cell_type": "code",
   "execution_count": 144,
   "id": "692d7766",
   "metadata": {},
   "outputs": [],
   "source": [
    "# looking for examples of null natDexTier values\n",
    "\n",
    "to_modify = tier_df[tier_df['natDexTier'].isnull() & tier_df['name'].isin(name_conversion['showdown_name'])]"
   ]
  },
  {
   "cell_type": "markdown",
   "id": "536485ea",
   "metadata": {},
   "source": [
    "Looks like some actual pokemon don't have a listed natDexTier. Some are not important, but some are.\n",
    "* arceus forms\n",
    "* pumpkaboo sizes\n",
    "* gourgeist sizes"
   ]
  },
  {
   "cell_type": "code",
   "execution_count": 145,
   "id": "485f9ba1",
   "metadata": {},
   "outputs": [
    {
     "data": {
      "text/html": [
       "<div>\n",
       "<style scoped>\n",
       "    .dataframe tbody tr th:only-of-type {\n",
       "        vertical-align: middle;\n",
       "    }\n",
       "\n",
       "    .dataframe tbody tr th {\n",
       "        vertical-align: top;\n",
       "    }\n",
       "\n",
       "    .dataframe thead th {\n",
       "        text-align: right;\n",
       "    }\n",
       "</style>\n",
       "<table border=\"1\" class=\"dataframe\">\n",
       "  <thead>\n",
       "    <tr style=\"text-align: right;\">\n",
       "      <th></th>\n",
       "      <th>isNonstandard</th>\n",
       "      <th>tier</th>\n",
       "      <th>natDexTier</th>\n",
       "      <th>doublesTier</th>\n",
       "      <th>name</th>\n",
       "    </tr>\n",
       "  </thead>\n",
       "  <tbody>\n",
       "    <tr>\n",
       "      <th>arceusbug</th>\n",
       "      <td>Unobtainable</td>\n",
       "      <td>NaN</td>\n",
       "      <td>NaN</td>\n",
       "      <td>NaN</td>\n",
       "      <td>arceusbug</td>\n",
       "    </tr>\n",
       "    <tr>\n",
       "      <th>arceusdark</th>\n",
       "      <td>Unobtainable</td>\n",
       "      <td>NaN</td>\n",
       "      <td>NaN</td>\n",
       "      <td>NaN</td>\n",
       "      <td>arceusdark</td>\n",
       "    </tr>\n",
       "    <tr>\n",
       "      <th>arceusdragon</th>\n",
       "      <td>Unobtainable</td>\n",
       "      <td>NaN</td>\n",
       "      <td>NaN</td>\n",
       "      <td>NaN</td>\n",
       "      <td>arceusdragon</td>\n",
       "    </tr>\n",
       "    <tr>\n",
       "      <th>arceuselectric</th>\n",
       "      <td>Unobtainable</td>\n",
       "      <td>NaN</td>\n",
       "      <td>NaN</td>\n",
       "      <td>NaN</td>\n",
       "      <td>arceuselectric</td>\n",
       "    </tr>\n",
       "    <tr>\n",
       "      <th>arceusfairy</th>\n",
       "      <td>Unobtainable</td>\n",
       "      <td>NaN</td>\n",
       "      <td>NaN</td>\n",
       "      <td>NaN</td>\n",
       "      <td>arceusfairy</td>\n",
       "    </tr>\n",
       "    <tr>\n",
       "      <th>arceusfighting</th>\n",
       "      <td>Unobtainable</td>\n",
       "      <td>NaN</td>\n",
       "      <td>NaN</td>\n",
       "      <td>NaN</td>\n",
       "      <td>arceusfighting</td>\n",
       "    </tr>\n",
       "    <tr>\n",
       "      <th>arceusfire</th>\n",
       "      <td>Unobtainable</td>\n",
       "      <td>NaN</td>\n",
       "      <td>NaN</td>\n",
       "      <td>NaN</td>\n",
       "      <td>arceusfire</td>\n",
       "    </tr>\n",
       "    <tr>\n",
       "      <th>arceusflying</th>\n",
       "      <td>Unobtainable</td>\n",
       "      <td>NaN</td>\n",
       "      <td>NaN</td>\n",
       "      <td>NaN</td>\n",
       "      <td>arceusflying</td>\n",
       "    </tr>\n",
       "    <tr>\n",
       "      <th>arceusghost</th>\n",
       "      <td>Unobtainable</td>\n",
       "      <td>NaN</td>\n",
       "      <td>NaN</td>\n",
       "      <td>NaN</td>\n",
       "      <td>arceusghost</td>\n",
       "    </tr>\n",
       "    <tr>\n",
       "      <th>arceusgrass</th>\n",
       "      <td>Unobtainable</td>\n",
       "      <td>NaN</td>\n",
       "      <td>NaN</td>\n",
       "      <td>NaN</td>\n",
       "      <td>arceusgrass</td>\n",
       "    </tr>\n",
       "    <tr>\n",
       "      <th>arceusground</th>\n",
       "      <td>Unobtainable</td>\n",
       "      <td>NaN</td>\n",
       "      <td>NaN</td>\n",
       "      <td>NaN</td>\n",
       "      <td>arceusground</td>\n",
       "    </tr>\n",
       "    <tr>\n",
       "      <th>arceusice</th>\n",
       "      <td>Unobtainable</td>\n",
       "      <td>NaN</td>\n",
       "      <td>NaN</td>\n",
       "      <td>NaN</td>\n",
       "      <td>arceusice</td>\n",
       "    </tr>\n",
       "    <tr>\n",
       "      <th>arceuspoison</th>\n",
       "      <td>Unobtainable</td>\n",
       "      <td>NaN</td>\n",
       "      <td>NaN</td>\n",
       "      <td>NaN</td>\n",
       "      <td>arceuspoison</td>\n",
       "    </tr>\n",
       "    <tr>\n",
       "      <th>arceuspsychic</th>\n",
       "      <td>Unobtainable</td>\n",
       "      <td>NaN</td>\n",
       "      <td>NaN</td>\n",
       "      <td>NaN</td>\n",
       "      <td>arceuspsychic</td>\n",
       "    </tr>\n",
       "    <tr>\n",
       "      <th>arceusrock</th>\n",
       "      <td>Unobtainable</td>\n",
       "      <td>NaN</td>\n",
       "      <td>NaN</td>\n",
       "      <td>NaN</td>\n",
       "      <td>arceusrock</td>\n",
       "    </tr>\n",
       "    <tr>\n",
       "      <th>arceussteel</th>\n",
       "      <td>Unobtainable</td>\n",
       "      <td>NaN</td>\n",
       "      <td>NaN</td>\n",
       "      <td>NaN</td>\n",
       "      <td>arceussteel</td>\n",
       "    </tr>\n",
       "    <tr>\n",
       "      <th>arceuswater</th>\n",
       "      <td>Unobtainable</td>\n",
       "      <td>NaN</td>\n",
       "      <td>NaN</td>\n",
       "      <td>NaN</td>\n",
       "      <td>arceuswater</td>\n",
       "    </tr>\n",
       "    <tr>\n",
       "      <th>greninjaash</th>\n",
       "      <td>Past</td>\n",
       "      <td>Illegal</td>\n",
       "      <td>NaN</td>\n",
       "      <td>NaN</td>\n",
       "      <td>greninjaash</td>\n",
       "    </tr>\n",
       "    <tr>\n",
       "      <th>pumpkaboosmall</th>\n",
       "      <td>Past</td>\n",
       "      <td>NaN</td>\n",
       "      <td>NaN</td>\n",
       "      <td>NaN</td>\n",
       "      <td>pumpkaboosmall</td>\n",
       "    </tr>\n",
       "    <tr>\n",
       "      <th>pumpkaboolarge</th>\n",
       "      <td>Past</td>\n",
       "      <td>NaN</td>\n",
       "      <td>NaN</td>\n",
       "      <td>NaN</td>\n",
       "      <td>pumpkaboolarge</td>\n",
       "    </tr>\n",
       "    <tr>\n",
       "      <th>pumpkaboosuper</th>\n",
       "      <td>Past</td>\n",
       "      <td>NaN</td>\n",
       "      <td>NaN</td>\n",
       "      <td>NaN</td>\n",
       "      <td>pumpkaboosuper</td>\n",
       "    </tr>\n",
       "    <tr>\n",
       "      <th>gourgeistsmall</th>\n",
       "      <td>Past</td>\n",
       "      <td>NaN</td>\n",
       "      <td>NaN</td>\n",
       "      <td>NaN</td>\n",
       "      <td>gourgeistsmall</td>\n",
       "    </tr>\n",
       "    <tr>\n",
       "      <th>gourgeistlarge</th>\n",
       "      <td>Past</td>\n",
       "      <td>NaN</td>\n",
       "      <td>NaN</td>\n",
       "      <td>NaN</td>\n",
       "      <td>gourgeistlarge</td>\n",
       "    </tr>\n",
       "    <tr>\n",
       "      <th>gourgeistsuper</th>\n",
       "      <td>Past</td>\n",
       "      <td>NaN</td>\n",
       "      <td>NaN</td>\n",
       "      <td>NaN</td>\n",
       "      <td>gourgeistsuper</td>\n",
       "    </tr>\n",
       "  </tbody>\n",
       "</table>\n",
       "</div>"
      ],
      "text/plain": [
       "               isNonstandard     tier natDexTier doublesTier            name\n",
       "arceusbug       Unobtainable      NaN        NaN         NaN       arceusbug\n",
       "arceusdark      Unobtainable      NaN        NaN         NaN      arceusdark\n",
       "arceusdragon    Unobtainable      NaN        NaN         NaN    arceusdragon\n",
       "arceuselectric  Unobtainable      NaN        NaN         NaN  arceuselectric\n",
       "arceusfairy     Unobtainable      NaN        NaN         NaN     arceusfairy\n",
       "arceusfighting  Unobtainable      NaN        NaN         NaN  arceusfighting\n",
       "arceusfire      Unobtainable      NaN        NaN         NaN      arceusfire\n",
       "arceusflying    Unobtainable      NaN        NaN         NaN    arceusflying\n",
       "arceusghost     Unobtainable      NaN        NaN         NaN     arceusghost\n",
       "arceusgrass     Unobtainable      NaN        NaN         NaN     arceusgrass\n",
       "arceusground    Unobtainable      NaN        NaN         NaN    arceusground\n",
       "arceusice       Unobtainable      NaN        NaN         NaN       arceusice\n",
       "arceuspoison    Unobtainable      NaN        NaN         NaN    arceuspoison\n",
       "arceuspsychic   Unobtainable      NaN        NaN         NaN   arceuspsychic\n",
       "arceusrock      Unobtainable      NaN        NaN         NaN      arceusrock\n",
       "arceussteel     Unobtainable      NaN        NaN         NaN     arceussteel\n",
       "arceuswater     Unobtainable      NaN        NaN         NaN     arceuswater\n",
       "greninjaash             Past  Illegal        NaN         NaN     greninjaash\n",
       "pumpkaboosmall          Past      NaN        NaN         NaN  pumpkaboosmall\n",
       "pumpkaboolarge          Past      NaN        NaN         NaN  pumpkaboolarge\n",
       "pumpkaboosuper          Past      NaN        NaN         NaN  pumpkaboosuper\n",
       "gourgeistsmall          Past      NaN        NaN         NaN  gourgeistsmall\n",
       "gourgeistlarge          Past      NaN        NaN         NaN  gourgeistlarge\n",
       "gourgeistsuper          Past      NaN        NaN         NaN  gourgeistsuper"
      ]
     },
     "execution_count": 145,
     "metadata": {},
     "output_type": "execute_result"
    }
   ],
   "source": [
    "# checking to see if all the pokemon in \"to_modify\" are LC or NFE in tiering\n",
    "\n",
    "to_modify.query('tier != \"LC\" and tier != \"NFE\" and tier != \"Unreleased\"')"
   ]
  },
  {
   "cell_type": "code",
   "execution_count": 146,
   "id": "0ea791c5",
   "metadata": {},
   "outputs": [
    {
     "data": {
      "text/plain": [
       "True"
      ]
     },
     "execution_count": 146,
     "metadata": {},
     "output_type": "execute_result"
    }
   ],
   "source": [
    "tier_df.loc['charmander', 'natDexTier'] is np.nan"
   ]
  },
  {
   "cell_type": "markdown",
   "id": "9b35d67d",
   "metadata": {},
   "source": [
    "This is the list of all the mons that need to be given a tier. Other than that, it should be smooth sailing.\n",
    "\n",
    "* arceus formes: ubers\n",
    "* ashgren: ubers\n",
    "* pumpkaboo sizes: LC\n",
    "* gourgeist sizes: RU"
   ]
  },
  {
   "cell_type": "markdown",
   "id": "f02b7de3",
   "metadata": {},
   "source": [
    "## Starting the feature engineering process"
   ]
  },
  {
   "cell_type": "code",
   "execution_count": 147,
   "id": "e5b128af",
   "metadata": {},
   "outputs": [],
   "source": [
    "def return_tier(pokemon_name):\n",
    "    '''\n",
    "    Returns the tier of the given pokemon\n",
    "    REQUIRES Global variables pokemon_df (Pandas Dataframe), name_conversion (Pandas DataFrame), to_modify (Pandas DataFrame)\n",
    "    This function is not intended to be used outside of Add_Tiers.csv\n",
    "    \n",
    "    Parameters:\n",
    "        pokemon_name (str): name of the pokemon in question\n",
    "        \n",
    "    Returns\n",
    "        str: Tier of the pokemon\n",
    "    '''\n",
    "    showdown_name = get_showdown_name(pokemon_name)\n",
    "    if (showdown_name.find('squawkabilly') >= 0):\n",
    "        return 'RU'\n",
    "    tier = tier_df.loc[showdown_name, 'natDexTier']\n",
    "    if (tier is not np.nan):\n",
    "        return tier\n",
    "    else:\n",
    "        if (showdown_name.find('arceus') >= 0):\n",
    "            return 'Uber'\n",
    "        elif (showdown_name.find('greninja') >= 0):\n",
    "            return 'Uber'\n",
    "        elif (showdown_name.find('pumpkaboo') >= 0):\n",
    "            return 'LC'\n",
    "        elif (showdown_name.find('gourgeist') >= 0):\n",
    "            return 'RU'\n",
    "        else:\n",
    "            return tier_df.loc[showdown_name, 'tier']\n",
    "        "
   ]
  },
  {
   "cell_type": "code",
   "execution_count": 148,
   "id": "af0b7ea4",
   "metadata": {},
   "outputs": [],
   "source": [
    "pokemon_df['tier'] = pokemon_df['name'].apply(return_tier)"
   ]
  },
  {
   "cell_type": "code",
   "execution_count": 149,
   "id": "8f662b0a",
   "metadata": {},
   "outputs": [],
   "source": [
    "# changing mega garchomp to UUBL to group it in with the other \"technically OU but not actually\" pokemon. \n",
    "# \"OU by technicality\" doesn't really matter as a field\n",
    "\n",
    "pokemon_df.loc[1084, 'tier'] = 'UUBL'"
   ]
  },
  {
   "cell_type": "code",
   "execution_count": 152,
   "id": "9c5e3590",
   "metadata": {},
   "outputs": [],
   "source": [
    "#pokemon_df.to_csv('Natdex_Data.csv', index=False)"
   ]
  },
  {
   "cell_type": "markdown",
   "id": "18ad5c3d",
   "metadata": {},
   "source": [
    "And that's it for this task!"
   ]
  }
 ],
 "metadata": {
  "kernelspec": {
   "display_name": "Python 3 (ipykernel)",
   "language": "python",
   "name": "python3"
  },
  "language_info": {
   "codemirror_mode": {
    "name": "ipython",
    "version": 3
   },
   "file_extension": ".py",
   "mimetype": "text/x-python",
   "name": "python",
   "nbconvert_exporter": "python",
   "pygments_lexer": "ipython3",
   "version": "3.9.13"
  }
 },
 "nbformat": 4,
 "nbformat_minor": 5
}
